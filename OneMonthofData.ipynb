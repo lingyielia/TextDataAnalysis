{
 "cells": [
  {
   "cell_type": "code",
   "execution_count": 1,
   "metadata": {
    "ExecuteTime": {
     "end_time": "2018-02-05T09:20:57.794420Z",
     "start_time": "2018-02-05T09:20:57.521441Z"
    }
   },
   "outputs": [],
   "source": [
    "import pandas as pd\n",
    "import numpy as np"
   ]
  },
  {
   "cell_type": "code",
   "execution_count": 4,
   "metadata": {
    "ExecuteTime": {
     "end_time": "2018-02-05T09:21:54.307639Z",
     "start_time": "2018-02-05T09:21:54.262349Z"
    }
   },
   "outputs": [
    {
     "data": {
      "text/html": [
       "<div>\n",
       "<style scoped>\n",
       "    .dataframe tbody tr th:only-of-type {\n",
       "        vertical-align: middle;\n",
       "    }\n",
       "\n",
       "    .dataframe tbody tr th {\n",
       "        vertical-align: top;\n",
       "    }\n",
       "\n",
       "    .dataframe thead th {\n",
       "        text-align: right;\n",
       "    }\n",
       "</style>\n",
       "<table border=\"1\" class=\"dataframe\">\n",
       "  <thead>\n",
       "    <tr style=\"text-align: right;\">\n",
       "      <th></th>\n",
       "      <th>content</th>\n",
       "      <th>date</th>\n",
       "      <th>rating</th>\n",
       "      <th>reviewer</th>\n",
       "      <th>title</th>\n",
       "    </tr>\n",
       "  </thead>\n",
       "  <tbody>\n",
       "    <tr>\n",
       "      <th>0</th>\n",
       "      <td>What can be said, that hasn't already been sai...</td>\n",
       "      <td>January-5-2018</td>\n",
       "      <td>5.0</td>\n",
       "      <td>Smooth Sluggo</td>\n",
       "      <td>Reading this book is like being forced to eat ...</td>\n",
       "    </tr>\n",
       "    <tr>\n",
       "      <th>1</th>\n",
       "      <td>I got the kindle version this morning. I proba...</td>\n",
       "      <td>January-5-2018</td>\n",
       "      <td>5.0</td>\n",
       "      <td>J. Thornton</td>\n",
       "      <td>I got the kindle version this morning. I proba...</td>\n",
       "    </tr>\n",
       "    <tr>\n",
       "      <th>2</th>\n",
       "      <td>I am not a phony billionaire.  I am a genuine ...</td>\n",
       "      <td>January-5-2018</td>\n",
       "      <td>5.0</td>\n",
       "      <td>Victoria Earle</td>\n",
       "      <td>I am not a phony billionaire. I am a ...</td>\n",
       "    </tr>\n",
       "    <tr>\n",
       "      <th>3</th>\n",
       "      <td>Fire and Fury, Inside the Trump White House is...</td>\n",
       "      <td>January-8-2018</td>\n",
       "      <td>4.0</td>\n",
       "      <td>smiley edna</td>\n",
       "      <td>Fascinating Look Into the Trump Presidency</td>\n",
       "    </tr>\n",
       "    <tr>\n",
       "      <th>4</th>\n",
       "      <td>I'm on page 240, and I have to say. It is a go...</td>\n",
       "      <td>January-8-2018</td>\n",
       "      <td>5.0</td>\n",
       "      <td>Thomas Manes</td>\n",
       "      <td>Before listening to the talking heads on Fox/C...</td>\n",
       "    </tr>\n",
       "  </tbody>\n",
       "</table>\n",
       "</div>"
      ],
      "text/plain": [
       "                                             content            date  rating  \\\n",
       "0  What can be said, that hasn't already been sai...  January-5-2018     5.0   \n",
       "1  I got the kindle version this morning. I proba...  January-5-2018     5.0   \n",
       "2  I am not a phony billionaire.  I am a genuine ...  January-5-2018     5.0   \n",
       "3  Fire and Fury, Inside the Trump White House is...  January-8-2018     4.0   \n",
       "4  I'm on page 240, and I have to say. It is a go...  January-8-2018     5.0   \n",
       "\n",
       "         reviewer                                              title  \n",
       "0   Smooth Sluggo  Reading this book is like being forced to eat ...  \n",
       "1     J. Thornton  I got the kindle version this morning. I proba...  \n",
       "2  Victoria Earle           I am not a phony billionaire. I am a ...  \n",
       "3     smiley edna         Fascinating Look Into the Trump Presidency  \n",
       "4    Thomas Manes  Before listening to the talking heads on Fox/C...  "
      ]
     },
     "execution_count": 4,
     "metadata": {},
     "output_type": "execute_result"
    }
   ],
   "source": [
    "df = pd.read_csv('complete_tillFeb5.csv', index_col=0)\n",
    "df.head()"
   ]
  },
  {
   "cell_type": "code",
   "execution_count": 5,
   "metadata": {
    "ExecuteTime": {
     "end_time": "2018-02-05T09:22:29.588405Z",
     "start_time": "2018-02-05T09:22:29.581980Z"
    }
   },
   "outputs": [
    {
     "data": {
      "text/plain": [
       "(4300, 5)"
      ]
     },
     "execution_count": 5,
     "metadata": {},
     "output_type": "execute_result"
    }
   ],
   "source": [
    "df.shape"
   ]
  },
  {
   "cell_type": "code",
   "execution_count": null,
   "metadata": {},
   "outputs": [],
   "source": []
  },
  {
   "cell_type": "code",
   "execution_count": null,
   "metadata": {},
   "outputs": [],
   "source": []
  },
  {
   "cell_type": "code",
   "execution_count": null,
   "metadata": {},
   "outputs": [],
   "source": []
  },
  {
   "cell_type": "code",
   "execution_count": null,
   "metadata": {},
   "outputs": [],
   "source": []
  },
  {
   "cell_type": "code",
   "execution_count": null,
   "metadata": {},
   "outputs": [],
   "source": []
  }
 ],
 "metadata": {
  "kernelspec": {
   "display_name": "Python 3",
   "language": "python",
   "name": "python3"
  },
  "language_info": {
   "codemirror_mode": {
    "name": "ipython",
    "version": 3
   },
   "file_extension": ".py",
   "mimetype": "text/x-python",
   "name": "python",
   "nbconvert_exporter": "python",
   "pygments_lexer": "ipython3",
   "version": "3.6.1"
  }
 },
 "nbformat": 4,
 "nbformat_minor": 2
}
